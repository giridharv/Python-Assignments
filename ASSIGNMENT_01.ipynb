{
 "cells": [
  {
   "cell_type": "markdown",
   "metadata": {},
   "source": [
    "1. Write a program which will find all such numbers which are divisible by 7 but are not a multiple of 5, between 2000 and 3200 (both included). The numbers obtained should be printed in a comma-separated sequence on a single line."
   ]
  },
  {
   "cell_type": "code",
   "execution_count": null,
   "metadata": {},
   "outputs": [],
   "source": [
    "res=[]\n",
    "for each in range(2000,3201):\n",
    "        if(each % 7 ==0 and each % 5!=0):\n",
    "          res.append(each)\n",
    "print(res)"
   ]
  },
  {
   "cell_type": "markdown",
   "metadata": {},
   "source": [
    "2. Write a Python program to accept the user's first and last name and then getting them printed in the the reverse order with a space between first name and last name. "
   ]
  },
  {
   "cell_type": "code",
   "execution_count": 7,
   "metadata": {},
   "outputs": [
    {
     "name": "stdout",
     "output_type": "stream",
     "text": [
      "Enter your first nameop\n",
      "Enter your last nameui\n",
      "po iu\n"
     ]
    }
   ],
   "source": [
    "def reverseString(str):\n",
    "    charArr = list(str)\n",
    "    j = len(charArr)-1\n",
    "    i=0\n",
    "    while(i < j):\n",
    "        temp = charArr[i]\n",
    "        charArr[i] = charArr[j]\n",
    "        charArr[j] = temp\n",
    "        i=i+1\n",
    "        j=j-1\n",
    "    return ''.join(charArr)\n",
    "\n",
    "userFirstName = input(\"Enter your first name\")\n",
    "userLastName = input(\"Enter your last name\")\n",
    "\n",
    "reversedUserFirstName =''\n",
    "reversedUserLastName = ''\n",
    "\n",
    "if(len(userFirstName)>0):\n",
    "    reversedUserFirstName = reverseString(userFirstName)\n",
    "\n",
    "if(len(userLastName)):\n",
    "    reversedUserLastName = reverseString(userLastName)\n",
    "\n",
    "\n",
    "print(reversedUserFirstName + \" \" + reversedUserLastName)\n"
   ]
  },
  {
   "cell_type": "markdown",
   "metadata": {},
   "source": [
    "3. Write a Python program to find the volume of a sphere with diameter 12 cm. \n",
    "Formula: V=4/3 * π * r"
   ]
  },
  {
   "cell_type": "code",
   "execution_count": 9,
   "metadata": {},
   "outputs": [
    {
     "name": "stdout",
     "output_type": "stream",
     "text": [
      "904.3199999999999\n"
     ]
    }
   ],
   "source": [
    "def powerOf(num,expo):\n",
    "    power=1;\n",
    "    for each in range(1,expo+1):\n",
    "        power = power * num;\n",
    "    return power\n",
    "\n",
    "\n",
    "diameter = 12\n",
    "radius =  (diameter)/2\n",
    "divVal = 4/3\n",
    "radiusCube = powerOf(radius,3)\n",
    "pi = 3.14\n",
    "vol = divVal * pi * radiusCube\n",
    "\n",
    "print(vol)"
   ]
  }
 ],
 "metadata": {
  "kernelspec": {
   "display_name": "Python 3",
   "language": "python",
   "name": "python3"
  },
  "language_info": {
   "codemirror_mode": {
    "name": "ipython",
    "version": 3
   },
   "file_extension": ".py",
   "mimetype": "text/x-python",
   "name": "python",
   "nbconvert_exporter": "python",
   "pygments_lexer": "ipython3",
   "version": "3.7.6"
  }
 },
 "nbformat": 4,
 "nbformat_minor": 4
}
